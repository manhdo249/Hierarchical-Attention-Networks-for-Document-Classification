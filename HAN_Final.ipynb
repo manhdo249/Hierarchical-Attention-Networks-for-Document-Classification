{
  "nbformat": 4,
  "nbformat_minor": 0,
  "metadata": {
    "colab": {
      "provenance": [],
      "gpuType": "T4"
    },
    "kernelspec": {
      "name": "python3",
      "display_name": "Python 3"
    },
    "language_info": {
      "name": "python"
    },
    "accelerator": "GPU"
  },
  "cells": [
    {
      "cell_type": "code",
      "source": [
        "import tensorflow.keras as keras\n",
        "from tensorflow.keras.preprocessing.sequence import pad_sequences\n",
        "from tensorflow.keras.preprocessing.text import Tokenizer, text_to_word_sequence\n",
        "from tensorflow.keras import initializers, regularizers, constraints\n",
        "from tensorflow.keras.layers import Dense, Dropout, Activation, Flatten, Input, Convolution2D, MaxPooling2D, Embedding, LSTM, GRU, Bidirectional, TimeDistributed\n",
        "from tensorflow.keras.models import Sequential, Model, load_model\n",
        "import tensorflow.keras.backend as K\n",
        "from tensorflow.keras.utils import plot_model, to_categorical\n",
        "from tensorflow.keras.layers import Layer"
      ],
      "metadata": {
        "id": "t7Sv0TwInYiJ"
      },
      "execution_count": 1,
      "outputs": []
    },
    {
      "cell_type": "code",
      "source": [
        "import numpy as np\n",
        "import pandas as pd\n",
        "from matplotlib import pyplot as plt\n",
        "import math\n",
        "import string\n",
        "import requests\n",
        "import re\n",
        "from bs4 import BeautifulSoup\n",
        "import os\n",
        "import sys\n",
        "import urllib\n",
        "import gzip\n",
        "from IPython.display import display, HTML"
      ],
      "metadata": {
        "id": "NiXZpHZhd94-"
      },
      "execution_count": 2,
      "outputs": []
    },
    {
      "cell_type": "code",
      "execution_count": 3,
      "metadata": {
        "colab": {
          "base_uri": "https://localhost:8080/"
        },
        "id": "9iT23cQPaS3V",
        "outputId": "105598ca-ac57-4152-b72b-e72840f6d98b"
      },
      "outputs": [
        {
          "output_type": "stream",
          "name": "stdout",
          "text": [
            "Mounted at /content/drive\n"
          ]
        }
      ],
      "source": [
        "from google.colab import drive\n",
        "drive.mount('/content/drive')\n",
        "os.chdir(\"/content/drive/MyDrive/NLP/Research with Mr.Linh/HAN\")"
      ]
    },
    {
      "cell_type": "code",
      "source": [
        "# Tạo một từ điển để lưu trữ embedding của từ\n",
        "embeddings_index = {}\n",
        "\n",
        "# Mở file glove.6B.100d.txt và đọc từng dòng để lấy embedding của từ\n",
        "f = open(os.path.join(os.getcwd(), 'glove.6B.100d.txt'), encoding='UTF-8')\n",
        "for line in f:\n",
        "    # Tách từng giá trị trong dòng để lấy từ và embedding tương ứng\n",
        "    values = line.split()\n",
        "    word = values[0]\n",
        "    coefs = np.asarray(values[1:], dtype='float32') # Chuyển đổi embedding thành mảng numpy\n",
        "    embeddings_index[word] = coefs # Lưu trữ embedding vào từ điển\n",
        "f.close()\n",
        "\n",
        "# In ra số lượng từ vựng có embedding được tìm thấy\n",
        "print('Có %s vector embeddings.' % len(embeddings_index))"
      ],
      "metadata": {
        "colab": {
          "base_uri": "https://localhost:8080/"
        },
        "id": "6PDCRp2Tckrn",
        "outputId": "3d95d236-cf98-4acc-c057-0fe6e1ea35d8"
      },
      "execution_count": 4,
      "outputs": [
        {
          "output_type": "stream",
          "name": "stdout",
          "text": [
            "Có 400000 vector embeddings.\n"
          ]
        }
      ]
    },
    {
      "cell_type": "code",
      "source": [
        "# Đọc dữ liệu từ tệp CSV và hiển thị nội dung của DataFrame\n",
        "data_df = pd.read_csv('Final.csv')\n",
        "print(data_df.head())\n",
        "\n",
        "# Chuyển cột 'Text' sang kiểu dữ liệu chuỗi (string)\n",
        "data_df['Text'] = data_df['Text'].astype(str)\n",
        "\n",
        "# Hiển thị kiểu dữ liệu của các cột trong DataFrame\n",
        "result = data_df.dtypes\n",
        "print(result)"
      ],
      "metadata": {
        "colab": {
          "base_uri": "https://localhost:8080/"
        },
        "id": "A4dwrjf6fCH2",
        "outputId": "b2580915-82d8-4582-ee68-c9a815755cae"
      },
      "execution_count": 5,
      "outputs": [
        {
          "output_type": "stream",
          "name": "stdout",
          "text": [
            "                                                Text  Category\n",
            "0  Florida raking in billions as Americans abando...         0\n",
            "1  Recently, changes to the U.S. tax code have en...         0\n",
            "2  MORE FROM FOXBUSINESS.COM... As it turns out, ...         0\n",
            "3  According to a new study from LendingTree, whi...         0\n",
            "4  The Sunshine State drew in a net influx of abo...         1\n",
            "Text        object\n",
            "Category     int64\n",
            "dtype: object\n"
          ]
        }
      ]
    },
    {
      "cell_type": "code",
      "source": [
        "import nltk\n",
        "from nltk.corpus import stopwords\n",
        "nltk.download('stopwords')\n",
        "from nltk.stem import WordNetLemmatizer\n",
        "nltk.download('wordnet')\n",
        "\n",
        "# Hàm này để làm sạch văn bản\n",
        "def cleanString(review, stopWords):\n",
        "    lemmatizer = WordNetLemmatizer()\n",
        "    returnString = \"\"\n",
        "    # Tách các câu trong văn bản\n",
        "    sentence_token = tokenize.sent_tokenize(review)\n",
        "    idx_list = []\n",
        "    for j in range(len(sentence_token)):\n",
        "        # Tách các từ trong mỗi câu\n",
        "        single_sentence = tokenize.word_tokenize(sentence_token[j])\n",
        "        # Lọc bỏ stop words và lemmatize từng từ\n",
        "        sentences_filtered = [(idx, lemmatizer.lemmatize(w.lower())) for idx, w in enumerate(single_sentence) if w.lower() not in stopWords and w.isalnum()]\n",
        "        idx_list.append([x[0] for x in sentences_filtered])\n",
        "        word_list = [x[1] for x in sentences_filtered]\n",
        "        returnString = returnString + ' '.join(word_list) + ' . '\n",
        "    return returnString, idx_list\n",
        "\n",
        "# Hàm chuyển đổi văn bản thành ma trận nguyên\n",
        "def wordToSeq(text, word_index, max_sentences, max_words, max_features):\n",
        "    sentences = tokenize.sent_tokenize(text)\n",
        "    data = np.zeros((max_sentences, max_words), dtype='int32')\n",
        "    for j, sent in enumerate(sentences):\n",
        "        if j < max_sentences:\n",
        "            wordTokens = tokenize.word_tokenize(sent.rstrip('.'))\n",
        "            wordTokens = [w for w in wordTokens]\n",
        "            k = 0\n",
        "            for _, word in enumerate(wordTokens):\n",
        "                try:\n",
        "                    # Chuyển đổi từ thành số\n",
        "                    if k < max_words and word_index[word] < max_features:\n",
        "                        data[j, k] = word_index[word]\n",
        "                        k = k + 1\n",
        "                except:\n",
        "                    pass\n",
        "    return data\n",
        "\n",
        "# Hàm chuyển đổi chuỗi về dạng one-hot\n",
        "def to_categorical(series, class_dict):\n",
        "    n_classes = len(class_dict)\n",
        "    new_dict = {}\n",
        "    for key, value in class_dict.items():\n",
        "        cat_list = [0] * n_classes\n",
        "        cat_list[key] = 1\n",
        "        new_dict[key] = cat_list\n",
        "    y_cat = []\n",
        "    for key, value in series.iteritems():\n",
        "        y_cat.append(new_dict[value])\n",
        "    return np.array(y_cat)\n"
      ],
      "metadata": {
        "colab": {
          "base_uri": "https://localhost:8080/"
        },
        "id": "Uv06_CbYkqgU",
        "outputId": "02d23951-fe4b-4887-8f3e-0beeb39940b2"
      },
      "execution_count": 6,
      "outputs": [
        {
          "output_type": "stream",
          "name": "stderr",
          "text": [
            "[nltk_data] Downloading package stopwords to /root/nltk_data...\n",
            "[nltk_data]   Unzipping corpora/stopwords.zip.\n",
            "[nltk_data] Downloading package wordnet to /root/nltk_data...\n"
          ]
        }
      ]
    },
    {
      "cell_type": "code",
      "source": [
        "from nltk import tokenize\n",
        "nltk.download('punkt')\n",
        "\n",
        "total_sentences = 0\n",
        "total_words = 0\n",
        "\n",
        "for text in data_df['Text']:\n",
        "    sentences = tokenize.sent_tokenize(text)  # Tách các câu trong đoạn văn thành danh sách các câu\n",
        "    total_sentences += len(sentences)  # Cộng thêm số câu của đoạn văn vào tổng số câu\n",
        "    for sentence in sentences:\n",
        "        total_words += len(tokenize.word_tokenize(sentence))  # Tách các từ trong câu và cộng số từ vào tổng số từ\n",
        "\n",
        "average_words_per_sentence = round(total_words / total_sentences)  # Tính số từ trung bình mỗi câu\n",
        "average_sentences_per_document = round(total_sentences / len(data_df))  # Tính số câu trung bình mỗi văn bản\n",
        "\n",
        "print(\"Số từ trung bình trong mỗi câu:\", average_words_per_sentence)\n",
        "print(\"Số câu trung bình trong mỗi văn bản:\", average_sentences_per_document)\n"
      ],
      "metadata": {
        "colab": {
          "base_uri": "https://localhost:8080/"
        },
        "id": "GRk6wt5Flypv",
        "outputId": "0aeb4a38-975f-4109-cda7-17adf1b9941c"
      },
      "execution_count": 7,
      "outputs": [
        {
          "output_type": "stream",
          "name": "stderr",
          "text": [
            "[nltk_data] Downloading package punkt to /root/nltk_data...\n",
            "[nltk_data]   Unzipping tokenizers/punkt.zip.\n"
          ]
        },
        {
          "output_type": "stream",
          "name": "stdout",
          "text": [
            "Số từ trung bình trong mỗi câu: 25\n",
            "Số câu trung bình trong mỗi văn bản: 2\n"
          ]
        }
      ]
    },
    {
      "cell_type": "code",
      "source": [
        "# Số lượng từ duy nhất tối đa được bao gồm trong từ điển từ tokenization\n",
        "MAX_FEATURES = 200000\n",
        "\n",
        "# Số lượng câu tối đa trong một tài liệu\n",
        "MAX_SENTENCE_NUM = 40\n",
        "\n",
        "# Số lượng từ tối đa trong mỗi câu\n",
        "MAX_WORD_NUM = 50\n",
        "\n",
        "# Kích thước vector của embedding của mỗi từ\n",
        "EMBED_SIZE = 100\n"
      ],
      "metadata": {
        "id": "naJ11IfWffub"
      },
      "execution_count": 8,
      "outputs": []
    },
    {
      "cell_type": "code",
      "source": [
        "# Xác định stopwords\n",
        "stop_words = set(stopwords.words('english'))\n",
        "\n",
        "cleaned_data = data_df.copy()\n",
        "\n",
        "# Chuẩn bị danh sách để lưu trữ các bài báo đã được làm sạch\n",
        "cleaned_articles = []\n",
        "\n",
        "# Lặp qua mỗi bài báo trong DataFrame gốc để làm sạch và chuyển đổi nhãn thành số\n",
        "for article in data_df['Text']:\n",
        "    cleaned_article, _ = cleanString(article, stop_words)\n",
        "    cleaned_articles.append(cleaned_article)\n",
        "\n",
        "cleaned_data['Text'] = pd.Series(cleaned_articles)\n",
        "\n",
        "# Chuyển đổi cột 'Category' sang dạng dữ liệu dạng category và mã hóa nhãn thành số\n",
        "cleaned_data['Category'] = cleaned_data['Category'].astype('category')\n",
        "cleaned_data['Code'] = cleaned_data['Category'].cat.codes\n",
        "\n",
        "# Tạo một từ điển ánh xạ từ category sang code\n",
        "category_to_code = dict(enumerate(cleaned_data['Category'].cat.categories))\n",
        "\n",
        "cleaned_data.head()\n"
      ],
      "metadata": {
        "colab": {
          "base_uri": "https://localhost:8080/",
          "height": 206
        },
        "id": "er8Y03H6fpdm",
        "outputId": "552d51cc-508b-46be-eb9a-f5559701967d"
      },
      "execution_count": 9,
      "outputs": [
        {
          "output_type": "execute_result",
          "data": {
            "text/plain": [
              "                                                Text Category  Code\n",
              "0  florida raking billion american abandon state ...        0     0\n",
              "1  recently change tax code encouraged increasing...        0     0\n",
              "2  turn however florida banking moving trend even...        0     0\n",
              "3  according new study lendingtree analyzed irs d...        0     0\n",
              "4  sunshine state drew net influx billion adjuste...        1     1"
            ],
            "text/html": [
              "\n",
              "  <div id=\"df-ebb20515-7189-4cdf-85be-f12d40616e1f\" class=\"colab-df-container\">\n",
              "    <div>\n",
              "<style scoped>\n",
              "    .dataframe tbody tr th:only-of-type {\n",
              "        vertical-align: middle;\n",
              "    }\n",
              "\n",
              "    .dataframe tbody tr th {\n",
              "        vertical-align: top;\n",
              "    }\n",
              "\n",
              "    .dataframe thead th {\n",
              "        text-align: right;\n",
              "    }\n",
              "</style>\n",
              "<table border=\"1\" class=\"dataframe\">\n",
              "  <thead>\n",
              "    <tr style=\"text-align: right;\">\n",
              "      <th></th>\n",
              "      <th>Text</th>\n",
              "      <th>Category</th>\n",
              "      <th>Code</th>\n",
              "    </tr>\n",
              "  </thead>\n",
              "  <tbody>\n",
              "    <tr>\n",
              "      <th>0</th>\n",
              "      <td>florida raking billion american abandon state ...</td>\n",
              "      <td>0</td>\n",
              "      <td>0</td>\n",
              "    </tr>\n",
              "    <tr>\n",
              "      <th>1</th>\n",
              "      <td>recently change tax code encouraged increasing...</td>\n",
              "      <td>0</td>\n",
              "      <td>0</td>\n",
              "    </tr>\n",
              "    <tr>\n",
              "      <th>2</th>\n",
              "      <td>turn however florida banking moving trend even...</td>\n",
              "      <td>0</td>\n",
              "      <td>0</td>\n",
              "    </tr>\n",
              "    <tr>\n",
              "      <th>3</th>\n",
              "      <td>according new study lendingtree analyzed irs d...</td>\n",
              "      <td>0</td>\n",
              "      <td>0</td>\n",
              "    </tr>\n",
              "    <tr>\n",
              "      <th>4</th>\n",
              "      <td>sunshine state drew net influx billion adjuste...</td>\n",
              "      <td>1</td>\n",
              "      <td>1</td>\n",
              "    </tr>\n",
              "  </tbody>\n",
              "</table>\n",
              "</div>\n",
              "    <div class=\"colab-df-buttons\">\n",
              "\n",
              "  <div class=\"colab-df-container\">\n",
              "    <button class=\"colab-df-convert\" onclick=\"convertToInteractive('df-ebb20515-7189-4cdf-85be-f12d40616e1f')\"\n",
              "            title=\"Convert this dataframe to an interactive table.\"\n",
              "            style=\"display:none;\">\n",
              "\n",
              "  <svg xmlns=\"http://www.w3.org/2000/svg\" height=\"24px\" viewBox=\"0 -960 960 960\">\n",
              "    <path d=\"M120-120v-720h720v720H120Zm60-500h600v-160H180v160Zm220 220h160v-160H400v160Zm0 220h160v-160H400v160ZM180-400h160v-160H180v160Zm440 0h160v-160H620v160ZM180-180h160v-160H180v160Zm440 0h160v-160H620v160Z\"/>\n",
              "  </svg>\n",
              "    </button>\n",
              "\n",
              "  <style>\n",
              "    .colab-df-container {\n",
              "      display:flex;\n",
              "      gap: 12px;\n",
              "    }\n",
              "\n",
              "    .colab-df-convert {\n",
              "      background-color: #E8F0FE;\n",
              "      border: none;\n",
              "      border-radius: 50%;\n",
              "      cursor: pointer;\n",
              "      display: none;\n",
              "      fill: #1967D2;\n",
              "      height: 32px;\n",
              "      padding: 0 0 0 0;\n",
              "      width: 32px;\n",
              "    }\n",
              "\n",
              "    .colab-df-convert:hover {\n",
              "      background-color: #E2EBFA;\n",
              "      box-shadow: 0px 1px 2px rgba(60, 64, 67, 0.3), 0px 1px 3px 1px rgba(60, 64, 67, 0.15);\n",
              "      fill: #174EA6;\n",
              "    }\n",
              "\n",
              "    .colab-df-buttons div {\n",
              "      margin-bottom: 4px;\n",
              "    }\n",
              "\n",
              "    [theme=dark] .colab-df-convert {\n",
              "      background-color: #3B4455;\n",
              "      fill: #D2E3FC;\n",
              "    }\n",
              "\n",
              "    [theme=dark] .colab-df-convert:hover {\n",
              "      background-color: #434B5C;\n",
              "      box-shadow: 0px 1px 3px 1px rgba(0, 0, 0, 0.15);\n",
              "      filter: drop-shadow(0px 1px 2px rgba(0, 0, 0, 0.3));\n",
              "      fill: #FFFFFF;\n",
              "    }\n",
              "  </style>\n",
              "\n",
              "    <script>\n",
              "      const buttonEl =\n",
              "        document.querySelector('#df-ebb20515-7189-4cdf-85be-f12d40616e1f button.colab-df-convert');\n",
              "      buttonEl.style.display =\n",
              "        google.colab.kernel.accessAllowed ? 'block' : 'none';\n",
              "\n",
              "      async function convertToInteractive(key) {\n",
              "        const element = document.querySelector('#df-ebb20515-7189-4cdf-85be-f12d40616e1f');\n",
              "        const dataTable =\n",
              "          await google.colab.kernel.invokeFunction('convertToInteractive',\n",
              "                                                    [key], {});\n",
              "        if (!dataTable) return;\n",
              "\n",
              "        const docLinkHtml = 'Like what you see? Visit the ' +\n",
              "          '<a target=\"_blank\" href=https://colab.research.google.com/notebooks/data_table.ipynb>data table notebook</a>'\n",
              "          + ' to learn more about interactive tables.';\n",
              "        element.innerHTML = '';\n",
              "        dataTable['output_type'] = 'display_data';\n",
              "        await google.colab.output.renderOutput(dataTable, element);\n",
              "        const docLink = document.createElement('div');\n",
              "        docLink.innerHTML = docLinkHtml;\n",
              "        element.appendChild(docLink);\n",
              "      }\n",
              "    </script>\n",
              "  </div>\n",
              "\n",
              "\n",
              "<div id=\"df-9245e09d-d2ad-475a-ba89-fc542b814014\">\n",
              "  <button class=\"colab-df-quickchart\" onclick=\"quickchart('df-9245e09d-d2ad-475a-ba89-fc542b814014')\"\n",
              "            title=\"Suggest charts\"\n",
              "            style=\"display:none;\">\n",
              "\n",
              "<svg xmlns=\"http://www.w3.org/2000/svg\" height=\"24px\"viewBox=\"0 0 24 24\"\n",
              "     width=\"24px\">\n",
              "    <g>\n",
              "        <path d=\"M19 3H5c-1.1 0-2 .9-2 2v14c0 1.1.9 2 2 2h14c1.1 0 2-.9 2-2V5c0-1.1-.9-2-2-2zM9 17H7v-7h2v7zm4 0h-2V7h2v10zm4 0h-2v-4h2v4z\"/>\n",
              "    </g>\n",
              "</svg>\n",
              "  </button>\n",
              "\n",
              "<style>\n",
              "  .colab-df-quickchart {\n",
              "      --bg-color: #E8F0FE;\n",
              "      --fill-color: #1967D2;\n",
              "      --hover-bg-color: #E2EBFA;\n",
              "      --hover-fill-color: #174EA6;\n",
              "      --disabled-fill-color: #AAA;\n",
              "      --disabled-bg-color: #DDD;\n",
              "  }\n",
              "\n",
              "  [theme=dark] .colab-df-quickchart {\n",
              "      --bg-color: #3B4455;\n",
              "      --fill-color: #D2E3FC;\n",
              "      --hover-bg-color: #434B5C;\n",
              "      --hover-fill-color: #FFFFFF;\n",
              "      --disabled-bg-color: #3B4455;\n",
              "      --disabled-fill-color: #666;\n",
              "  }\n",
              "\n",
              "  .colab-df-quickchart {\n",
              "    background-color: var(--bg-color);\n",
              "    border: none;\n",
              "    border-radius: 50%;\n",
              "    cursor: pointer;\n",
              "    display: none;\n",
              "    fill: var(--fill-color);\n",
              "    height: 32px;\n",
              "    padding: 0;\n",
              "    width: 32px;\n",
              "  }\n",
              "\n",
              "  .colab-df-quickchart:hover {\n",
              "    background-color: var(--hover-bg-color);\n",
              "    box-shadow: 0 1px 2px rgba(60, 64, 67, 0.3), 0 1px 3px 1px rgba(60, 64, 67, 0.15);\n",
              "    fill: var(--button-hover-fill-color);\n",
              "  }\n",
              "\n",
              "  .colab-df-quickchart-complete:disabled,\n",
              "  .colab-df-quickchart-complete:disabled:hover {\n",
              "    background-color: var(--disabled-bg-color);\n",
              "    fill: var(--disabled-fill-color);\n",
              "    box-shadow: none;\n",
              "  }\n",
              "\n",
              "  .colab-df-spinner {\n",
              "    border: 2px solid var(--fill-color);\n",
              "    border-color: transparent;\n",
              "    border-bottom-color: var(--fill-color);\n",
              "    animation:\n",
              "      spin 1s steps(1) infinite;\n",
              "  }\n",
              "\n",
              "  @keyframes spin {\n",
              "    0% {\n",
              "      border-color: transparent;\n",
              "      border-bottom-color: var(--fill-color);\n",
              "      border-left-color: var(--fill-color);\n",
              "    }\n",
              "    20% {\n",
              "      border-color: transparent;\n",
              "      border-left-color: var(--fill-color);\n",
              "      border-top-color: var(--fill-color);\n",
              "    }\n",
              "    30% {\n",
              "      border-color: transparent;\n",
              "      border-left-color: var(--fill-color);\n",
              "      border-top-color: var(--fill-color);\n",
              "      border-right-color: var(--fill-color);\n",
              "    }\n",
              "    40% {\n",
              "      border-color: transparent;\n",
              "      border-right-color: var(--fill-color);\n",
              "      border-top-color: var(--fill-color);\n",
              "    }\n",
              "    60% {\n",
              "      border-color: transparent;\n",
              "      border-right-color: var(--fill-color);\n",
              "    }\n",
              "    80% {\n",
              "      border-color: transparent;\n",
              "      border-right-color: var(--fill-color);\n",
              "      border-bottom-color: var(--fill-color);\n",
              "    }\n",
              "    90% {\n",
              "      border-color: transparent;\n",
              "      border-bottom-color: var(--fill-color);\n",
              "    }\n",
              "  }\n",
              "</style>\n",
              "\n",
              "  <script>\n",
              "    async function quickchart(key) {\n",
              "      const quickchartButtonEl =\n",
              "        document.querySelector('#' + key + ' button');\n",
              "      quickchartButtonEl.disabled = true;  // To prevent multiple clicks.\n",
              "      quickchartButtonEl.classList.add('colab-df-spinner');\n",
              "      try {\n",
              "        const charts = await google.colab.kernel.invokeFunction(\n",
              "            'suggestCharts', [key], {});\n",
              "      } catch (error) {\n",
              "        console.error('Error during call to suggestCharts:', error);\n",
              "      }\n",
              "      quickchartButtonEl.classList.remove('colab-df-spinner');\n",
              "      quickchartButtonEl.classList.add('colab-df-quickchart-complete');\n",
              "    }\n",
              "    (() => {\n",
              "      let quickchartButtonEl =\n",
              "        document.querySelector('#df-9245e09d-d2ad-475a-ba89-fc542b814014 button');\n",
              "      quickchartButtonEl.style.display =\n",
              "        google.colab.kernel.accessAllowed ? 'block' : 'none';\n",
              "    })();\n",
              "  </script>\n",
              "</div>\n",
              "\n",
              "    </div>\n",
              "  </div>\n"
            ],
            "application/vnd.google.colaboratory.intrinsic+json": {
              "type": "dataframe",
              "variable_name": "cleaned_data",
              "summary": "{\n  \"name\": \"cleaned_data\",\n  \"rows\": 22058,\n  \"fields\": [\n    {\n      \"column\": \"Text\",\n      \"properties\": {\n        \"dtype\": \"string\",\n        \"num_unique_values\": 21182,\n        \"samples\": [\n          \"unites two promise however neither party explained going pay . ndp leader jagmeet singh also faced question tuesday party achieve goal promised build new affordable home across country 10 year elected . \",\n          \"nice amount call protection come per share . even floating rate start call protection end libor . however like stress see good investment . \",\n          \"krugman told . know much vehement could gotten . \"\n        ],\n        \"semantic_type\": \"\",\n        \"description\": \"\"\n      }\n    },\n    {\n      \"column\": \"Category\",\n      \"properties\": {\n        \"dtype\": \"category\",\n        \"num_unique_values\": 2,\n        \"samples\": [\n          1,\n          0\n        ],\n        \"semantic_type\": \"\",\n        \"description\": \"\"\n      }\n    },\n    {\n      \"column\": \"Code\",\n      \"properties\": {\n        \"dtype\": \"int8\",\n        \"num_unique_values\": 2,\n        \"samples\": [\n          1,\n          0\n        ],\n        \"semantic_type\": \"\",\n        \"description\": \"\"\n      }\n    }\n  ]\n}"
            }
          },
          "metadata": {},
          "execution_count": 9
        }
      ]
    },
    {
      "cell_type": "code",
      "source": [
        "texts = []\n",
        "\n",
        "# Lặp qua từng mẫu văn bản trong cleaned_data\n",
        "n = cleaned_data['Text'].shape[0]\n",
        "for i in range(n):\n",
        "    # Lấy ra một câu từ văn bản tại vị trí i\n",
        "    s = cleaned_data['Text'].iloc[i]\n",
        "\n",
        "    # Loại bỏ các ký tự dấu câu ở đầu và cuối mỗi từ trong câu, sau đó nối lại các từ để tạo ra câu mới\n",
        "    s = ' '.join([word.strip(string.punctuation) for word in s.split() if word.strip(string.punctuation) != \"\"])\n",
        "\n",
        "    texts.append(s)\n",
        "\n",
        "# Khởi tạo một đối tượng Tokenizer để tạo chỉ số từ cho các từ trong văn bản\n",
        "tokenizer = Tokenizer(num_words=MAX_FEATURES, lower=True, oov_token=None)\n",
        "\n",
        "# Huấn luyện tokenizer trên danh sách các câu đã xử lý\n",
        "tokenizer.fit_on_texts(texts)\n",
        "\n",
        "# Lấy chỉ số từ cho mỗi từ trong tokenizer và lưu vào biến word_index\n",
        "word_index = tokenizer.word_index\n"
      ],
      "metadata": {
        "id": "DeYV0dOpfq-Y"
      },
      "execution_count": 10,
      "outputs": []
    },
    {
      "cell_type": "code",
      "source": [
        "min_wordCount = 0\n",
        "absent_words = 0\n",
        "small_words = 0\n",
        "\n",
        "embedding_matrix = np.zeros((len(word_index) + 1, EMBED_SIZE))\n",
        "\n",
        "word_counts = tokenizer.word_counts\n",
        "\n",
        "# Duyệt qua từng từ trong từ điển word_index\n",
        "for word, i in word_index.items():\n",
        "    # Kiểm tra nếu số lần xuất hiện của từ đó lớn hơn ngưỡng tối thiểu\n",
        "    if word_counts[word] > min_wordCount:\n",
        "        embedding_vector = embeddings_index.get(word)\n",
        "        # Nếu tồn tại vectơ nhúng cho từ đó\n",
        "        if embedding_vector is not None:\n",
        "            # Lưu vectơ nhúng vào ma trận nhúng tại vị trí tương ứng\n",
        "            embedding_matrix[i] = embedding_vector\n",
        "        else:\n",
        "            absent_words += 1\n",
        "    else:\n",
        "        small_words += 1\n"
      ],
      "metadata": {
        "id": "Jl5rd9BMf9fz"
      },
      "execution_count": 12,
      "outputs": []
    },
    {
      "cell_type": "code",
      "source": [
        "# Source: https://www.cs.cmu.edu/~hovy/papers/16HLT-hierarchical-attention-networks.pdf\n",
        "class AttentionLayer(Layer):\n",
        "\n",
        "    def __init__(self, attention_dim=100, return_coefficients=False, **kwargs):\n",
        "        # Khởi tạo các tham số của lớp AttentionLayer\n",
        "        self.supports_masking = True\n",
        "        self.return_coefficients = return_coefficients\n",
        "        self.init = initializers.get('glorot_uniform')\n",
        "        self.attention_dim = attention_dim\n",
        "        super(AttentionLayer, self).__init__(**kwargs)\n",
        "\n",
        "    def build(self, input_shape):\n",
        "        assert len(input_shape) == 3\n",
        "        # Khởi tạo ma trận trọng số và vector bias\n",
        "        self.W = K.variable(self.init((input_shape[-1], self.attention_dim)), name='W')\n",
        "        self.b = K.variable(self.init((self.attention_dim, )), name='b')\n",
        "        self.u = K.variable(self.init((self.attention_dim, 1)), name='u')\n",
        "        self._trainable_weights = [self.W, self.b, self.u]\n",
        "\n",
        "        super(AttentionLayer, self).build(input_shape)\n",
        "\n",
        "    def compute_mask(self, input, input_mask=None):\n",
        "        return None\n",
        "\n",
        "    def call(self, hit, mask=None):\n",
        "        # Tính toán ma trận attention weights\n",
        "        uit = K.bias_add(K.dot(hit, self.W), self.b)\n",
        "        uit = K.tanh(uit)\n",
        "\n",
        "        ait = K.dot(uit, self.u)\n",
        "        ait = K.squeeze(ait, -1)\n",
        "        ait = K.exp(ait)\n",
        "\n",
        "        # Áp dụng mask (nếu có)\n",
        "        if mask is not None:\n",
        "            ait *= K.cast(mask, K.floatx())\n",
        "\n",
        "        # Chuẩn hóa attention weights\n",
        "        ait /= K.cast(K.sum(ait, axis=1, keepdims=True) + K.epsilon(), K.floatx())\n",
        "        ait = K.expand_dims(ait)\n",
        "        weighted_input = hit * ait\n",
        "\n",
        "        # Trả về kết quả dựa trên việc tính tổng có trọng số của các vector đầu vào\n",
        "        if self.return_coefficients:\n",
        "            return [K.sum(weighted_input, axis=1), ait]\n",
        "        else:\n",
        "            return K.sum(weighted_input, axis=1)\n",
        "\n",
        "    def compute_output_shape(self, input_shape):\n",
        "        # Trả về hình dạng đầu ra của lớp AttentionLayer\n",
        "        if self.return_coefficients:\n",
        "            return [(input_shape[0], input_shape[-1]), (input_shape[0], input_shape[-1], 1)]\n",
        "        else:\n",
        "            return input_shape[0], input_shape[-1]\n",
        "\n",
        "    def get_config(self):\n",
        "        config = super().get_config()\n",
        "        config.update({\n",
        "            'attention_dim': self.attention_dim,\n",
        "            'return_coefficients': self.return_coefficients\n",
        "        })\n"
      ],
      "metadata": {
        "id": "1QNHYtoKedvO"
      },
      "execution_count": 13,
      "outputs": []
    },
    {
      "cell_type": "code",
      "source": [
        "from sklearn.model_selection import train_test_split\n",
        "\n",
        "# Hàm thực hiện chuyển đổi nhãn về dạng one-hot encoding\n",
        "def to_categorical(labels, class_dict):\n",
        "    num_classes = len(class_dict)\n",
        "    categorical_labels = np.zeros((len(labels), num_classes))\n",
        "    for i, label in enumerate(labels):\n",
        "        categorical_labels[i, class_dict[label]] = 1\n",
        "    return categorical_labels\n",
        "\n",
        "# Phân chia dữ liệu Pandas DataFrame thành tập huấn luyện, tập validation, và tập kiểm tra\n",
        "train_data, test_data = train_test_split(cleaned_data, test_size=0.2, random_state=42)\n",
        "validation_data, test_data = train_test_split(test_data, test_size=0.5, random_state=42)\n",
        "\n",
        "# Huấn luyện\n",
        "x_train = np.array([wordToSeq(text, word_index, MAX_SENTENCE_NUM, MAX_WORD_NUM, MAX_FEATURES) for text in train_data['Text']])\n",
        "y_train = to_categorical(train_data['Code'], category_to_code)\n",
        "\n",
        "# Validation\n",
        "x_val = np.array([wordToSeq(text, word_index, MAX_SENTENCE_NUM, MAX_WORD_NUM, MAX_FEATURES) for text in validation_data['Text']])\n",
        "y_val = to_categorical(validation_data['Code'], category_to_code)\n",
        "\n",
        "# Kiểm tra\n",
        "x_test = np.array([wordToSeq(text, word_index, MAX_SENTENCE_NUM, MAX_WORD_NUM, MAX_FEATURES) for text in test_data['Text']])\n",
        "y_test = to_categorical(test_data['Code'], category_to_code)\n"
      ],
      "metadata": {
        "id": "rDB6y4SSfyph"
      },
      "execution_count": 14,
      "outputs": []
    },
    {
      "cell_type": "code",
      "source": [
        "from tensorflow.keras.initializers import GlorotUniform\n",
        "\n",
        "# Tạo GlorotUniform initializer với seed\n",
        "glorot_uniform_initializer = GlorotUniform(seed=42)\n",
        "\n",
        "# Embedding\n",
        "embedding_layer = Embedding(len(word_index) + 1, EMBED_SIZE, weights=[embedding_matrix],\n",
        "                            input_length=MAX_WORD_NUM, trainable=False, name='word_embedding')\n",
        "\n",
        "# Mô hình chú ý theo từng từ\n",
        "word_input = Input(shape=(MAX_WORD_NUM,), dtype='int32', name='word_input')\n",
        "word_sequences = embedding_layer(word_input)\n",
        "word_gru = Bidirectional(GRU(50, return_sequences=True), name='word_gru')(word_sequences)\n",
        "word_dense = Dense(100, activation='relu', kernel_initializer=glorot_uniform_initializer, name='word_dense')(word_gru)\n",
        "word_att, word_coeffs = AttentionLayer(EMBED_SIZE, True, name='word_attention')(word_dense)\n",
        "wordEncoder = Model(inputs=word_input, outputs=word_att)\n",
        "\n",
        "# Mô hình chú ý theo câu\n",
        "sent_input = Input(shape=(MAX_SENTENCE_NUM, MAX_WORD_NUM), dtype='int32', name='sent_input')\n",
        "sent_encoder = TimeDistributed(wordEncoder, name='sent_linking')(sent_input)\n",
        "sent_gru = Bidirectional(GRU(50, return_sequences=True), name='sent_gru')(sent_encoder)\n",
        "sent_dense = Dense(100, activation='relu', kernel_initializer=glorot_uniform_initializer, name='sent_dense')(sent_gru)\n",
        "sent_att, sent_coeffs = AttentionLayer(EMBED_SIZE, return_coefficients=True, name='sent_attention')(sent_dense)\n",
        "sent_drop = Dropout(0.5, name='sent_dropout')(sent_att)\n",
        "preds = Dense(2, activation='sigmoid', name='output')(sent_drop)\n",
        "\n",
        "# Compile mô hình\n",
        "model = Model(sent_input, preds)\n",
        "model.compile(loss='binary_crossentropy', optimizer='adam', metrics=['acc'])\n",
        "print(wordEncoder.summary())\n",
        "print(model.summary())\n"
      ],
      "metadata": {
        "colab": {
          "base_uri": "https://localhost:8080/"
        },
        "id": "YleF1hXngC09",
        "outputId": "46a72e91-3717-4d73-d81b-f94a4b203e3f"
      },
      "execution_count": 16,
      "outputs": [
        {
          "output_type": "stream",
          "name": "stdout",
          "text": [
            "Model: \"model_2\"\n",
            "_________________________________________________________________\n",
            " Layer (type)                Output Shape              Param #   \n",
            "=================================================================\n",
            " word_input (InputLayer)     [(None, 50)]              0         \n",
            "                                                                 \n",
            " word_embedding (Embedding)  (None, 50, 100)           2489900   \n",
            "                                                                 \n",
            " word_gru (Bidirectional)    (None, 50, 100)           45600     \n",
            "                                                                 \n",
            " word_dense (Dense)          (None, 50, 100)           10100     \n",
            "                                                                 \n",
            " word_attention (AttentionL  [(None, 100),             10200     \n",
            " ayer)                        (None, 50, 1)]                     \n",
            "                                                                 \n",
            "=================================================================\n",
            "Total params: 2555800 (9.75 MB)\n",
            "Trainable params: 65900 (257.42 KB)\n",
            "Non-trainable params: 2489900 (9.50 MB)\n",
            "_________________________________________________________________\n",
            "None\n",
            "Model: \"model_3\"\n",
            "_________________________________________________________________\n",
            " Layer (type)                Output Shape              Param #   \n",
            "=================================================================\n",
            " sent_input (InputLayer)     [(None, 40, 50)]          0         \n",
            "                                                                 \n",
            " sent_linking (TimeDistribu  (None, 40, 100)           2555800   \n",
            " ted)                                                            \n",
            "                                                                 \n",
            " sent_gru (Bidirectional)    (None, 40, 100)           45600     \n",
            "                                                                 \n",
            " sent_dense (Dense)          (None, 40, 100)           10100     \n",
            "                                                                 \n",
            " sent_attention (AttentionL  [(None, 100),             10200     \n",
            " ayer)                        (None, 40, 1)]                     \n",
            "                                                                 \n",
            " sent_dropout (Dropout)      (None, 100)               0         \n",
            "                                                                 \n",
            " output (Dense)              (None, 2)                 202       \n",
            "                                                                 \n",
            "=================================================================\n",
            "Total params: 2621902 (10.00 MB)\n",
            "Trainable params: 132002 (515.63 KB)\n",
            "Non-trainable params: 2489900 (9.50 MB)\n",
            "_________________________________________________________________\n",
            "None\n"
          ]
        }
      ]
    },
    {
      "cell_type": "code",
      "source": [
        "history = model.fit(x_train, y_train, validation_data=(x_val, y_val), epochs=6, batch_size=100)"
      ],
      "metadata": {
        "colab": {
          "base_uri": "https://localhost:8080/"
        },
        "id": "WbmE9sDlhmkT",
        "outputId": "a89ef5d6-818b-41ae-f62f-329f802c3ca1"
      },
      "execution_count": 17,
      "outputs": [
        {
          "output_type": "stream",
          "name": "stdout",
          "text": [
            "Epoch 1/6\n",
            "177/177 [==============================] - 30s 99ms/step - loss: 0.2680 - acc: 0.9266 - val_loss: 0.1967 - val_acc: 0.9266\n",
            "Epoch 2/6\n",
            "177/177 [==============================] - 16s 88ms/step - loss: 0.1866 - acc: 0.9283 - val_loss: 0.1732 - val_acc: 0.9170\n",
            "Epoch 3/6\n",
            "177/177 [==============================] - 16s 88ms/step - loss: 0.1618 - acc: 0.9351 - val_loss: 0.1536 - val_acc: 0.9361\n",
            "Epoch 4/6\n",
            "177/177 [==============================] - 15s 85ms/step - loss: 0.1440 - acc: 0.9432 - val_loss: 0.1587 - val_acc: 0.9420\n",
            "Epoch 5/6\n",
            "177/177 [==============================] - 15s 86ms/step - loss: 0.1274 - acc: 0.9478 - val_loss: 0.1463 - val_acc: 0.9433\n",
            "Epoch 6/6\n",
            "177/177 [==============================] - 16s 88ms/step - loss: 0.1134 - acc: 0.9522 - val_loss: 0.1558 - val_acc: 0.9433\n"
          ]
        }
      ]
    },
    {
      "cell_type": "code",
      "source": [
        "# Đồ thị biểu diễn độ chính xác trong mỗi epoch\n",
        "plt.plot(history.history['acc'])\n",
        "plt.plot(history.history['val_acc'])\n",
        "plt.title('Độ chính xác của mô hình')\n",
        "plt.ylabel('Độ chính xác')\n",
        "plt.xlabel('Epoch')\n",
        "plt.legend(['Huấn luyện', 'Validation'], loc='upper left')\n",
        "plt.show()\n",
        "\n",
        "# Đồ thị biểu diễn giá trị mất mát trong mỗi epoch\n",
        "plt.plot(history.history['loss'])\n",
        "plt.plot(history.history['val_loss'])\n",
        "plt.title('Mất mát của mô hình')\n",
        "plt.ylabel('Mất mát')\n",
        "plt.xlabel('Epoch')\n",
        "plt.legend(['Huấn luyện', 'Validation'], loc='upper left')\n",
        "plt.show()\n"
      ],
      "metadata": {
        "colab": {
          "base_uri": "https://localhost:8080/",
          "height": 927
        },
        "id": "HSw8akhIhvtU",
        "outputId": "74e10692-9a28-4781-c33f-026fe3e40dc0"
      },
      "execution_count": 18,
      "outputs": [
        {
          "output_type": "display_data",
          "data": {
            "text/plain": [
              "<Figure size 640x480 with 1 Axes>"
            ],
            "image/png": "[encoded data removed]"
          },
          "metadata": {}
        },
        {
          "output_type": "display_data",
          "data": {
            "text/plain": [
              "<Figure size 640x480 with 1 Axes>"
            ],
            "image/png": "[encoded data removed]"
          },
          "metadata": {}
        }
      ]
    },
    {
      "cell_type": "code",
      "source": [
        "loss, acc = model.evaluate(x_test, y_test)\n",
        "\n",
        "print(\"Độ chính xác trên tập kiểm thử: \", acc)\n",
        "\n",
        "print(\"Mất mát trên tập kiểm thử: \", loss)\n"
      ],
      "metadata": {
        "colab": {
          "base_uri": "https://localhost:8080/"
        },
        "id": "9wa7x6_EmSjG",
        "outputId": "201a49e8-2e1f-4f3f-c6f9-a251144fb877"
      },
      "execution_count": 20,
      "outputs": [
        {
          "output_type": "stream",
          "name": "stdout",
          "text": [
            "69/69 [==============================] - 1s 14ms/step - loss: 0.1692 - acc: 0.9461\n",
            "Độ chính xác trên tập kiểm thử:  0.9460561871528625\n",
            "Mất mát trên tập kiểm thử:  0.16922418773174286\n"
          ]
        }
      ]
    },
    {
      "cell_type": "code",
      "source": [],
      "metadata": {
        "id": "tTm_DYaJmUqh"
      },
      "execution_count": null,
      "outputs": []
    }
  ]
}